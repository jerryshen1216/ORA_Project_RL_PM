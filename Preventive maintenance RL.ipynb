{
 "cells": [
  {
   "cell_type": "code",
   "execution_count": 1,
   "metadata": {},
   "outputs": [],
   "source": [
    "import pandas as pd\n",
    "import numpy as np\n",
    "import random\n",
    "import matplotlib.pyplot as plt\n",
    "import math\n",
    "import matplotlib.patches as mpatches\n",
    "plt.rcParams['axes.unicode_minus'] = False  "
   ]
  },
  {
   "cell_type": "code",
   "execution_count": 6,
   "metadata": {},
   "outputs": [],
   "source": [
    "# 傳入 stage, 回傳 Reward 與下一階段的 State）\n",
    "def get_enviroment(state, action):\n",
    "    stage = state[0]\n",
    "    inventory_level = state[1]\n",
    "    duration = state[2]\n",
    "    \n",
    "    print(\"current_stage: \", stage)\n",
    "    print(\"current_inventory_level: \", inventory_level)\n",
    "    print(\"current_duration: \", duration)\n",
    "    \n",
    "    random_rate = random.random()\n",
    "    order_num = int(random.gauss(mu=MU,sigma=SIG))\n",
    "    print(\"order_num\",order_num)\n",
    "    \n",
    "    if action == 0:\n",
    "        print(\"keep producing\")\n",
    "        new_stage = stage + 1 if MACHINE_DETERIORATION_RATE[stage]>random_rate else stage\n",
    "        new_inventory_level = inventory_level + int(MACHINE_YIELD_RATE[new_stage] * MACHINE_PRODUCTION_NUM) - order_num\n",
    "        new_duration = 0\n",
    "    elif action == 1:\n",
    "        print(\"preventive maintenance\")\n",
    "        new_stage = stage - 2 if stage > 2 else 0\n",
    "        new_inventory_level = inventory_level - order_num\n",
    "        new_duration = PM_DURATION\n",
    "    elif action == 2:\n",
    "        print(\"corrective maintenance\")\n",
    "        new_stage = 0\n",
    "        new_inventory_level = inventory_level - order_num\n",
    "        new_duration = CM_DURATION\n",
    "    elif action==3:\n",
    "        print(\"under maintenance\")\n",
    "        new_stage = stage\n",
    "        new_inventory_level = inventory_level - order_num\n",
    "        new_duration = duration - 1\n",
    "    else:\n",
    "        print(\"rest\")\n",
    "        new_stage = stage\n",
    "        new_inventory_level = inventory_level - order_num\n",
    "        new_duration = 0\n",
    "    \n",
    "    \n",
    "    # reward 並且檢查 new_inventory_level是否出界\n",
    "    old_reward = inventory_level * BUFFER_COST if inventory_level >=0 else abs(inventory_level) * BACKORDER_COST\n",
    "    if new_inventory_level >= INVENTORY_LEVEL/2:\n",
    "        new_inventory_level = INVENTORY_LEVEL/2\n",
    "    elif new_inventory_level <= -(INVENTORY_LEVEL/2):\n",
    "        new_inventory_level = -(INVENTORY_LEVEL/2)\n",
    "        \n",
    "    reward = new_inventory_level * BUFFER_COST if new_inventory_level >=0 else abs(new_inventory_level) * BACKORDER_COST\n",
    "        \n",
    "    print(\"--after action--\")\n",
    "    print(\"next_stage: \", new_stage)\n",
    "    print(\"next_inventory_level: \", new_inventory_level)\n",
    "    print(\"next_duration: \", new_duration)\n",
    "    return  (new_stage, new_inventory_level, new_duration), reward\n",
    "    \n",
    "    "
   ]
  },
  {
   "cell_type": "code",
   "execution_count": 7,
   "metadata": {},
   "outputs": [],
   "source": [
    "def choose_action(state, q_table, epsilon):\n",
    "    stage = state[0]\n",
    "    inventory_level = state[1]\n",
    "    duration = state[2]\n",
    "    \n",
    "    random_prob = np.random.random_sample()\n",
    "    if duration > 0: # 假設仍然在保養中，直接回傳 maintenance\n",
    "        return 3\n",
    "    elif stage == 5: # 假設 stage 已經到 5 了，直接選擇 CM 的動作\n",
    "        return 2\n",
    "    elif stage < 1: # 若 stage 為全新，則不會進行 PM，只會製造或停工\n",
    "        if random_prob < epsilon:\n",
    "            print(\"explore\")\n",
    "            rt = np.random.random_sample()\n",
    "            if rt < 1/2:\n",
    "                return 0\n",
    "            else:\n",
    "                return 4\n",
    "        else:\n",
    "            produce_value = q_table.loc[state, 0]\n",
    "            rest_value = q_table.loc[state, 4]\n",
    "            if produce_value >= rest_value:\n",
    "                return 0\n",
    "            else:\n",
    "                return 4\n",
    "    else: # 當 stage > 1 的時候，就能進行 PM、製造、停工\n",
    "        if random_prob < epsilon:\n",
    "            print(\"explore\")\n",
    "            rt = np.random.random_sample()\n",
    "            if rt < 1/3:\n",
    "                return 0\n",
    "            elif 2/3 >= rt >= 1/3:\n",
    "                return 1\n",
    "            else:\n",
    "                print(\"?\")\n",
    "                return 4\n",
    "        else:\n",
    "            produce_value = q_table.loc[state, 0]\n",
    "            pm_value = q_table.loc[state, 1]\n",
    "            rest_value = q_table.loc[state, 4]\n",
    "            \n",
    "            if produce_value >= pm_value and produce_value >= rest_value:\n",
    "                return 0\n",
    "            elif pm_value > produce_value and pm_value > rest_value:\n",
    "                return 1\n",
    "            else:\n",
    "                return 4\n",
    "            "
   ]
  },
  {
   "cell_type": "code",
   "execution_count": 152,
   "metadata": {},
   "outputs": [
    {
     "data": {
      "text/html": [
       "<div>\n",
       "<style scoped>\n",
       "    .dataframe tbody tr th:only-of-type {\n",
       "        vertical-align: middle;\n",
       "    }\n",
       "\n",
       "    .dataframe tbody tr th {\n",
       "        vertical-align: top;\n",
       "    }\n",
       "\n",
       "    .dataframe thead th {\n",
       "        text-align: right;\n",
       "    }\n",
       "</style>\n",
       "<table border=\"1\" class=\"dataframe\">\n",
       "  <thead>\n",
       "    <tr style=\"text-align: right;\">\n",
       "      <th></th>\n",
       "      <th></th>\n",
       "      <th></th>\n",
       "      <th>0</th>\n",
       "      <th>1</th>\n",
       "      <th>2</th>\n",
       "      <th>3</th>\n",
       "      <th>4</th>\n",
       "    </tr>\n",
       "  </thead>\n",
       "  <tbody>\n",
       "    <tr>\n",
       "      <th rowspan=\"5\" valign=\"top\">0</th>\n",
       "      <th rowspan=\"4\" valign=\"top\">-40</th>\n",
       "      <th>0</th>\n",
       "      <td>-1000.0</td>\n",
       "      <td>-1000.0</td>\n",
       "      <td>-1000.0</td>\n",
       "      <td>-1000.0</td>\n",
       "      <td>-1000.0</td>\n",
       "    </tr>\n",
       "    <tr>\n",
       "      <th>1</th>\n",
       "      <td>-1000.0</td>\n",
       "      <td>-1000.0</td>\n",
       "      <td>-1000.0</td>\n",
       "      <td>-1000.0</td>\n",
       "      <td>-1000.0</td>\n",
       "    </tr>\n",
       "    <tr>\n",
       "      <th>2</th>\n",
       "      <td>-1000.0</td>\n",
       "      <td>-1000.0</td>\n",
       "      <td>-1000.0</td>\n",
       "      <td>-1000.0</td>\n",
       "      <td>-1000.0</td>\n",
       "    </tr>\n",
       "    <tr>\n",
       "      <th>3</th>\n",
       "      <td>-1000.0</td>\n",
       "      <td>-1000.0</td>\n",
       "      <td>-1000.0</td>\n",
       "      <td>-1000.0</td>\n",
       "      <td>-1000.0</td>\n",
       "    </tr>\n",
       "    <tr>\n",
       "      <th>-39</th>\n",
       "      <th>0</th>\n",
       "      <td>-1000.0</td>\n",
       "      <td>-1000.0</td>\n",
       "      <td>-1000.0</td>\n",
       "      <td>-1000.0</td>\n",
       "      <td>-1000.0</td>\n",
       "    </tr>\n",
       "    <tr>\n",
       "      <th>...</th>\n",
       "      <th>...</th>\n",
       "      <th>...</th>\n",
       "      <td>...</td>\n",
       "      <td>...</td>\n",
       "      <td>...</td>\n",
       "      <td>...</td>\n",
       "      <td>...</td>\n",
       "    </tr>\n",
       "    <tr>\n",
       "      <th rowspan=\"5\" valign=\"top\">5</th>\n",
       "      <th>39</th>\n",
       "      <th>3</th>\n",
       "      <td>-1000.0</td>\n",
       "      <td>-1000.0</td>\n",
       "      <td>-1000.0</td>\n",
       "      <td>-1000.0</td>\n",
       "      <td>-1000.0</td>\n",
       "    </tr>\n",
       "    <tr>\n",
       "      <th rowspan=\"4\" valign=\"top\">40</th>\n",
       "      <th>0</th>\n",
       "      <td>-1000.0</td>\n",
       "      <td>-1000.0</td>\n",
       "      <td>-1000.0</td>\n",
       "      <td>-1000.0</td>\n",
       "      <td>-1000.0</td>\n",
       "    </tr>\n",
       "    <tr>\n",
       "      <th>1</th>\n",
       "      <td>-1000.0</td>\n",
       "      <td>-1000.0</td>\n",
       "      <td>-1000.0</td>\n",
       "      <td>-1000.0</td>\n",
       "      <td>-1000.0</td>\n",
       "    </tr>\n",
       "    <tr>\n",
       "      <th>2</th>\n",
       "      <td>-1000.0</td>\n",
       "      <td>-1000.0</td>\n",
       "      <td>-1000.0</td>\n",
       "      <td>-1000.0</td>\n",
       "      <td>-1000.0</td>\n",
       "    </tr>\n",
       "    <tr>\n",
       "      <th>3</th>\n",
       "      <td>-1000.0</td>\n",
       "      <td>-1000.0</td>\n",
       "      <td>-1000.0</td>\n",
       "      <td>-1000.0</td>\n",
       "      <td>-1000.0</td>\n",
       "    </tr>\n",
       "  </tbody>\n",
       "</table>\n",
       "<p>1944 rows × 5 columns</p>\n",
       "</div>"
      ],
      "text/plain": [
       "              0       1       2       3       4\n",
       "0 -40 0 -1000.0 -1000.0 -1000.0 -1000.0 -1000.0\n",
       "      1 -1000.0 -1000.0 -1000.0 -1000.0 -1000.0\n",
       "      2 -1000.0 -1000.0 -1000.0 -1000.0 -1000.0\n",
       "      3 -1000.0 -1000.0 -1000.0 -1000.0 -1000.0\n",
       "  -39 0 -1000.0 -1000.0 -1000.0 -1000.0 -1000.0\n",
       "...         ...     ...     ...     ...     ...\n",
       "5  39 3 -1000.0 -1000.0 -1000.0 -1000.0 -1000.0\n",
       "   40 0 -1000.0 -1000.0 -1000.0 -1000.0 -1000.0\n",
       "      1 -1000.0 -1000.0 -1000.0 -1000.0 -1000.0\n",
       "      2 -1000.0 -1000.0 -1000.0 -1000.0 -1000.0\n",
       "      3 -1000.0 -1000.0 -1000.0 -1000.0 -1000.0\n",
       "\n",
       "[1944 rows x 5 columns]"
      ]
     },
     "execution_count": 152,
     "metadata": {},
     "output_type": "execute_result"
    }
   ],
   "source": [
    "# machine 狀態\n",
    "STAGE = 6\n",
    "MACHINE_DETERIORATION_RATE = []\n",
    "MACHINE_YIELD_RATE = [1.0, 0.8, 0.6, 0.4, 0.2, 0]\n",
    "MACHINE_PRODUCTION_NUM = 10\n",
    "# 成本相關\n",
    "INVENTORY_LEVEL = 80\n",
    "BUFFER_COST = -3\n",
    "BACKORDER_COST = -5\n",
    "# PM 相關\n",
    "PM_DURATION = 1\n",
    "CM_DURATION = 3\n",
    "DURATION = 3\n",
    "\n",
    "MU = 5\n",
    "SIG= 1\n",
    "\n",
    "lambd = 0.2\n",
    "for i in range(1, 6):\n",
    "    j = 1 - np.exp(-lambd*i)\n",
    "    MACHINE_DETERIORATION_RATE.append(j)\n",
    "MACHINE_DETERIORATION_RATE.append(0)\n",
    "\n",
    "\n",
    "state, action_1, action_2, action_3, action_4, action_5 = [], [], [], [], [], []\n",
    "\n",
    "for i in range(STAGE):\n",
    "    for j in range((INVENTORY_LEVEL//2) * -1, (INVENTORY_LEVEL//2)+1):\n",
    "            for k in range(DURATION+1):\n",
    "                state.append((i,j,k))\n",
    "                action_1.append(float(\"-1000\"))\n",
    "                action_2.append(float(\"-1000\"))\n",
    "                action_3.append(float(\"-1000\"))\n",
    "                action_4.append(float(\"-1000\"))\n",
    "                action_5.append(float(\"-1000\"))\n",
    "# 0: produce, 1:pm, 2:cm, 3:maintenance                    \n",
    "q_table = pd.DataFrame({0:action_1, 1:action_2, 2:action_3,3:action_4, 4:action_5}, index=pd.MultiIndex.from_tuples(state))\n",
    "initial_state = (0, 1, -4)\n",
    "#q_table.loc[initial_state]\n",
    "q_table"
   ]
  },
  {
   "cell_type": "code",
   "execution_count": 165,
   "metadata": {
    "scrolled": false
   },
   "outputs": [],
   "source": [
    "# 參數設計\n",
    "state = (0,10,0)\n",
    "alpha = 0.5\n",
    "lr = 0.2\n",
    "dis_fac = 0.8\n",
    "get_epsilon = lambda i: max(0.1, min(1, 1.0 - math.log10((i+1)/2500)))\n",
    "\n",
    "reward_list = []\n",
    "q_value = []\n",
    "avg_reward_list = []\n",
    "total_reward = 0\n",
    "inventory_level_list = []\n",
    "total_inventory = 0\n",
    "avg_inventory_list = []\n",
    "\n",
    "for i in range(50000):\n",
    "    q_value.append(sum(q_table.sum()))\n",
    "    epsilon = get_epsilon(i)\n",
    "#     epsilon = 0\n",
    "    inventory_level_list.append(state[1])\n",
    "    \n",
    "    print(\"###############iter\", i,\"###############\")\n",
    "    action = choose_action(state, q_table, epsilon)\n",
    "    new_state, reward = get_enviroment(state, action)\n",
    "    print(\"$$$$$\", reward, \"$$$$$$$$$$\")\n",
    "    \n",
    "    # 沒改到有些綁定的狀態只能有特定的 action\n",
    "    \n",
    "    \n",
    "    future_value = float('-inf')\n",
    "    for j in range(5):\n",
    "        value = q_table.loc[new_state, j]\n",
    "        if value > future_value:\n",
    "            future_value = value\n",
    "            \n",
    "    if new_state[2] > 0:\n",
    "        future_value = q_table.loc[new_state, 3]\n",
    "    if new_state[2] == CM_DURATION:\n",
    "        future_value = q_table.loc[new_state, 2]\n",
    "    \n",
    "    q_table.loc[state, action] = (1-alpha) * q_table.loc[state, action] + alpha * (reward + dis_fac *future_value - q_table.loc[state, action])\n",
    "    \n",
    "    total_reward += reward\n",
    "    total_inventory += state[1]\n",
    "    avg_inventory_list.append(total_inventory/(i+1))\n",
    "    avg = total_reward/(i+1)\n",
    "    if i > 5000:\n",
    "        if sum(avg_reward_list[-50:])/len(avg_reward_list[-50:]) == avg:\n",
    "            print(\"early stop\")\n",
    "            break\n",
    "        \n",
    "    avg_reward_list.append(avg)\n",
    "    state = new_state"
   ]
  },
  {
   "cell_type": "code",
   "execution_count": 160,
   "metadata": {},
   "outputs": [
    {
     "data": {
      "text/plain": [
       "[<matplotlib.lines.Line2D at 0x7f7f55cc22b0>]"
      ]
     },
     "execution_count": 160,
     "metadata": {},
     "output_type": "execute_result"
    },
    {
     "data": {
      "image/png": "[encoded data removed]",
      "text/plain": [
       "<Figure size 432x288 with 1 Axes>"
      ]
     },
     "metadata": {
      "needs_background": "light"
     },
     "output_type": "display_data"
    }
   ],
   "source": [
    "plt.xlabel(\"iteration\")\n",
    "plt.ylabel(\"sum of q_table\")\n",
    "plt.title(\"sum of q_table\")\n",
    "plt.plot(q_value)"
   ]
  },
  {
   "cell_type": "code",
   "execution_count": 161,
   "metadata": {},
   "outputs": [
    {
     "data": {
      "text/plain": [
       "[<matplotlib.lines.Line2D at 0x7f7f52171c70>]"
      ]
     },
     "execution_count": 161,
     "metadata": {},
     "output_type": "execute_result"
    },
    {
     "data": {
      "image/png": "[encoded data removed]",
      "text/plain": [
       "<Figure size 432x288 with 1 Axes>"
      ]
     },
     "metadata": {
      "needs_background": "light"
     },
     "output_type": "display_data"
    }
   ],
   "source": [
    "plt.xlabel(\"iteration\")\n",
    "plt.ylabel(\"reward\")\n",
    "plt.title(\"avg reward\")\n",
    "plt.plot(avg_reward_list)"
   ]
  },
  {
   "cell_type": "code",
   "execution_count": 162,
   "metadata": {},
   "outputs": [
    {
     "data": {
      "text/plain": [
       "[<matplotlib.lines.Line2D at 0x7f7f56533070>]"
      ]
     },
     "execution_count": 162,
     "metadata": {},
     "output_type": "execute_result"
    },
    {
     "data": {
      "image/png": "[encoded data removed]",
      "text/plain": [
       "<Figure size 432x288 with 1 Axes>"
      ]
     },
     "metadata": {
      "needs_background": "light"
     },
     "output_type": "display_data"
    }
   ],
   "source": [
    "plt.xlabel(\"iteration\")\n",
    "plt.ylabel(\"inventory_level\")\n",
    "plt.title(\"inventory_level\")\n",
    "plt.plot(inventory_level_list)"
   ]
  },
  {
   "cell_type": "code",
   "execution_count": 163,
   "metadata": {},
   "outputs": [
    {
     "data": {
      "text/plain": [
       "[<matplotlib.lines.Line2D at 0x7f7f569ffd60>]"
      ]
     },
     "execution_count": 163,
     "metadata": {},
     "output_type": "execute_result"
    },
    {
     "data": {
      "image/png": "[encoded data removed]",
      "text/plain": [
       "<Figure size 432x288 with 1 Axes>"
      ]
     },
     "metadata": {
      "needs_background": "light"
     },
     "output_type": "display_data"
    }
   ],
   "source": [
    "plt.xlabel(\"iteration\")\n",
    "plt.ylabel(\"inventory_level\")\n",
    "plt.title(\"avg_inventory_level\")\n",
    "plt.plot(avg_inventory_list)"
   ]
  },
  {
   "cell_type": "code",
   "execution_count": 164,
   "metadata": {},
   "outputs": [
    {
     "data": {
      "image/png": "[encoded data removed]",
      "text/plain": [
       "<Figure size 432x288 with 1 Axes>"
      ]
     },
     "metadata": {
      "needs_background": "light"
     },
     "output_type": "display_data"
    }
   ],
   "source": [
    "x = np.arange(0,6)\n",
    "y = np.arange(-40,41)\n",
    "fig, ax = plt.subplots()\n",
    "red_patch = mpatches.Patch(color='red', label='pm')\n",
    "blue_patch = mpatches.Patch(color='blue', label='production')\n",
    "orange_patch = mpatches.Patch(color='orange', label='rest')\n",
    "#ax.legend(handles=[orange_patch, red_patch, blue_patch])\n",
    "\n",
    "for i in range(INVENTORY_LEVEL//2 * -1, INVENTORY_LEVEL//2+1):\n",
    "    for j in range(STAGE-1):\n",
    "        \n",
    "        if j >= 1:\n",
    "            production_value = q_table.loc[(j, i, 0), 0]\n",
    "            pm_value = q_table.loc[(j, i, 0), 1]\n",
    "            rest_value = q_table.loc[(j,i, 0), 4]\n",
    "\n",
    "            if max(production_value, pm_value, rest_value) == production_value:\n",
    "                ax.scatter(j,i, c='blue', s=5)\n",
    "            elif max(production_value, pm_value, rest_value) == pm_value:\n",
    "                ax.scatter(j,i,c='red',s=5)\n",
    "            elif max(production_value, pm_value, rest_value) == rest_value:\n",
    "                ax.scatter(j,i,c='orange', s=5)\n",
    "            else:\n",
    "                continue\n",
    "        else:\n",
    "            production_value = q_table.loc[(j, i, 0), 0]\n",
    "            rest_value = q_table.loc[(j, i, 0), 4]\n",
    "            if production_value > rest_value:\n",
    "                ax.scatter(j,i, c='blue', s=5)\n",
    "            elif production_value < rest_value:\n",
    "                ax.scatter(j,i,c='orange', s=5)\n",
    "            else:\n",
    "                continue\n",
    "                \n",
    "plt.xlabel(\"machine_age_stage\")\n",
    "plt.ylabel(\"inventory_level\")\n",
    "plt.title(\"pm_policy\")\n",
    "plt.show()\n",
    "        "
   ]
  },
  {
   "cell_type": "code",
   "execution_count": 113,
   "metadata": {},
   "outputs": [
    {
     "data": {
      "text/plain": [
       "0     -11.048433\n",
       "1      -8.478888\n",
       "2   -1000.000000\n",
       "3   -1000.000000\n",
       "4      -5.037658\n",
       "Name: (2, 5, 0), dtype: float64"
      ]
     },
     "execution_count": 113,
     "metadata": {},
     "output_type": "execute_result"
    }
   ],
   "source": [
    "q_table.loc[(2, 5,0)]"
   ]
  },
  {
   "cell_type": "code",
   "execution_count": 131,
   "metadata": {},
   "outputs": [
    {
     "data": {
      "text/plain": [
       "[0.18126924692201818,\n",
       " 0.3296799539643607,\n",
       " 0.4511883639059736,\n",
       " 0.5506710358827784,\n",
       " 0.6321205588285577,\n",
       " 0]"
      ]
     },
     "execution_count": 131,
     "metadata": {},
     "output_type": "execute_result"
    }
   ],
   "source": [
    "MACHINE_DETERIORATION_RATE"
   ]
  },
  {
   "cell_type": "code",
   "execution_count": null,
   "metadata": {},
   "outputs": [],
   "source": []
  }
 ],
 "metadata": {
  "kernelspec": {
   "display_name": "Python 3",
   "language": "python",
   "name": "python3"
  },
  "language_info": {
   "codemirror_mode": {
    "name": "ipython",
    "version": 3
   },
   "file_extension": ".py",
   "mimetype": "text/x-python",
   "name": "python",
   "nbconvert_exporter": "python",
   "pygments_lexer": "ipython3",
   "version": "3.8.3"
  }
 },
 "nbformat": 4,
 "nbformat_minor": 4
}
